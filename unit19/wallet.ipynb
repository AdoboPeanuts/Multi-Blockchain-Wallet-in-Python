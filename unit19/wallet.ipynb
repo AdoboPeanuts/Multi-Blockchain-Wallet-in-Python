{
 "cells": [
  {
   "cell_type": "code",
   "execution_count": 24,
   "source": [
    "# import libraries\r\n",
    "import subprocess\r\n",
    "import json\r\n",
    "import os\r\n",
    "\r\n",
    "from constants import *\r\n",
    "from dotenv import load_dotenv\r\n",
    "from pathlib import Path\r\n",
    "from pprint import pprint\r\n",
    "from web3 import Web3\r\n",
    "from eth_account import Account\r\n",
    "from bit import PrivateKeyTestnet\r\n",
    "from bit.network import NetworkAPI\r\n",
    "from web3.middleware import geth_poa_middleware\r\n",
    "from web3.gas_strategies.time_based import medium_gas_price_strategy\r\n",
    "\r\n",
    "load_dotenv()"
   ],
   "outputs": [
    {
     "output_type": "execute_result",
     "data": {
      "text/plain": [
       "True"
      ]
     },
     "metadata": {},
     "execution_count": 24
    }
   ],
   "metadata": {}
  },
  {
   "cell_type": "code",
   "execution_count": 25,
   "source": [
    "# import mnemonic from env\r\n",
    "filepath=\".env\"\r\n",
    "p = subprocess.Popen(filepath, shell=True, stdout = subprocess.PIPE)\r\n",
    "\r\n",
    "#get mnemonic\r\n",
    "mnemonic = os.getenv('MNEMONIC')\r\n",
    "print(mnemonic)"
   ],
   "outputs": [
    {
     "output_type": "stream",
     "name": "stdout",
     "text": [
      "stumble sing material day acoustic try page jungle mosquito service grocery century\n"
     ]
    }
   ],
   "metadata": {}
  },
  {
   "cell_type": "code",
   "execution_count": 26,
   "source": [
    "# connect to local ETH/geth\r\n",
    "w3 = Web3(Web3.HTTPProvider('http://localhost:8545'))\r\n",
    "w3.middleware_onion.inject(geth_poa_middleware, layer=0)\r\n",
    "w3.eth.setGasPriceStrategy(medium_gas_price_strategy)"
   ],
   "outputs": [],
   "metadata": {}
  },
  {
   "cell_type": "code",
   "execution_count": 27,
   "source": [
    "# Define function to derive wallet\r\n",
    "def derive_wallets(mnemonic, coin, numderive):\r\n",
    "    \"\"\"Use the subprocess library to call the php file script from Python\"\"\"\r\n",
    "    command = f'php ./hd-wallet-derive/hd-wallet-derive.php -g --mnemonic=\"{mnemonic}\" --numderive=\"{numderive}\" --coin=\"{coin}\" --cols=path,address,privkey,pubkey --format=json' \r\n",
    "    p = subprocess.Popen(command, stdout=subprocess.PIPE, shell=True)\r\n",
    "    (output, err) = p.communicate()\r\n",
    "    p_status = p.wait()\r\n",
    "    keys = json.loads(output)\r\n",
    "    return  keys"
   ],
   "outputs": [],
   "metadata": {}
  },
  {
   "cell_type": "code",
   "execution_count": 28,
   "source": [
    "# Created a dictionary object called coins to store the output from `derive_wallets`.\r\n",
    "coins = {\"eth\", \"btc\", \"btc-test\"}\r\n",
    "print(coins)\r\n",
    "numderive = 3"
   ],
   "outputs": [
    {
     "output_type": "stream",
     "name": "stdout",
     "text": [
      "{'eth', 'btc', 'btc-test'}\n"
     ]
    }
   ],
   "metadata": {}
  },
  {
   "cell_type": "code",
   "execution_count": 29,
   "source": [
    "key = {}\r\n",
    "for coin in coins:\r\n",
    "    key[coin]= derive_wallets(os.getenv('mnemonic'), coin, numderive=3)"
   ],
   "outputs": [],
   "metadata": {}
  },
  {
   "cell_type": "code",
   "execution_count": 30,
   "source": [
    "\r\n",
    "eth_PrivateKey = key[\"eth\"][0]['privkey']\r\n",
    "btc_PrivateKey = key[\"btc-test\"][0]['privkey']\r\n",
    "\r\n",
    "print(json.dumps(eth_PrivateKey, indent=4, sort_keys=True))\r\n",
    "print(json.dumps(btc_PrivateKey, indent=4, sort_keys=True))"
   ],
   "outputs": [
    {
     "output_type": "stream",
     "name": "stdout",
     "text": [
      "\"0x883a22ca435f5ca2a37a4f587983f455d25f6cf2bd92529278485a25a7113f20\"\n",
      "\"cR38nnMUzPKg7TQSeQ7sueEJBbQiMUViyj8UAamVJ2JRexMqHfgL\"\n"
     ]
    }
   ],
   "metadata": {}
  },
  {
   "cell_type": "code",
   "execution_count": 31,
   "source": [
    "print(json.dumps(key, indent=4, sort_keys=True))"
   ],
   "outputs": [
    {
     "output_type": "stream",
     "name": "stdout",
     "text": [
      "{\n",
      "    \"btc\": [\n",
      "        {\n",
      "            \"address\": \"12jYeEnU3wdwEMogfG6FofK6pe9PysiZAc\",\n",
      "            \"path\": \"m/44'/0'/0'/0/0\",\n",
      "            \"privkey\": \"KynzJmCL5twkxYprUuhAtSiRtWHUzT9soBHrvpMSkqfMqnBcBJ8p\",\n",
      "            \"pubkey\": \"037d1c6bce0cffdbdd576f71a980b6928f119287077854a9d2516e43d385bedff5\"\n",
      "        },\n",
      "        {\n",
      "            \"address\": \"1Gs5KGy6wnjxXmS9CdxagNXnftUM6bKWsp\",\n",
      "            \"path\": \"m/44'/0'/0'/0/1\",\n",
      "            \"privkey\": \"KxQtFqLLVeXNSA6XAQgi6gX7jLJHuwguAZW5tJszPzNXrc335a4K\",\n",
      "            \"pubkey\": \"02fce3efd13d07c23d17ac45f080e72b68c21371019b2a3cec5e29e77b77baab13\"\n",
      "        },\n",
      "        {\n",
      "            \"address\": \"1DQRvfasJzoirRcyS9KnPsGn7b6S8LNmno\",\n",
      "            \"path\": \"m/44'/0'/0'/0/2\",\n",
      "            \"privkey\": \"L3tx53tWgHZuHHfzFu3jfNt5vjTM7MngB61DryNf8zdFiK7dNLos\",\n",
      "            \"pubkey\": \"03e8dc22cf608c2c79d9fc4ecf5689e556b1a51b2dee5c90105c587a215122139d\"\n",
      "        }\n",
      "    ],\n",
      "    \"btc-test\": [\n",
      "        {\n",
      "            \"address\": \"mzKe2XK1Vb4Cxnxi2h6N3g9pxGUppTUCnm\",\n",
      "            \"path\": \"m/44'/1'/0'/0/0\",\n",
      "            \"privkey\": \"cR38nnMUzPKg7TQSeQ7sueEJBbQiMUViyj8UAamVJ2JRexMqHfgL\",\n",
      "            \"pubkey\": \"03a17f7f6f8d50f320920496320dca80e977ec317e35917f971587579b31131574\"\n",
      "        },\n",
      "        {\n",
      "            \"address\": \"mnDKnf6YWH52xYb7rF2v14dKMUY7VY7ems\",\n",
      "            \"path\": \"m/44'/1'/0'/0/1\",\n",
      "            \"privkey\": \"cVxHGMNtsqLxCPQaUt25ZPhopw4AoAwyzwssGxjpZj3EWsDCPb6y\",\n",
      "            \"pubkey\": \"03c778197cb19ebe017aad9d0f2599569aa8c1bfa2fde8ddd45823d4e6eff0bbb7\"\n",
      "        },\n",
      "        {\n",
      "            \"address\": \"n4LoNJHdoZmDGEdLtNEXRbcQLGPjsW2SKa\",\n",
      "            \"path\": \"m/44'/1'/0'/0/2\",\n",
      "            \"privkey\": \"cS5EZeb6sXMPKHo8m2Vz7j9vz6dH6cQsm3HGVFepPkKU6UZTpa9w\",\n",
      "            \"pubkey\": \"0248b8576393b2e69533d76fe5862dbfc70ac3be8aa7de4b23fd54d121ac230324\"\n",
      "        }\n",
      "    ],\n",
      "    \"eth\": [\n",
      "        {\n",
      "            \"address\": \"0xbEC0d63779f5d59346a135cCf681bFa5B13d61C8\",\n",
      "            \"path\": \"m/44'/60'/0'/0/0\",\n",
      "            \"privkey\": \"0x883a22ca435f5ca2a37a4f587983f455d25f6cf2bd92529278485a25a7113f20\",\n",
      "            \"pubkey\": \"02fdde249b4fab58701b7237c1032c92c096801c14e7e0ecc7f0e8fab964fb70e6\"\n",
      "        },\n",
      "        {\n",
      "            \"address\": \"0x8aD5b4E4165647E4666587D8f4b66f268F46F772\",\n",
      "            \"path\": \"m/44'/60'/0'/0/1\",\n",
      "            \"privkey\": \"0x31cead4a0d5ae09286a7ba5d78c2dc1b7d7e65f9cdce5fe4c728dcb8ea6a881e\",\n",
      "            \"pubkey\": \"02c356989413d669a1036d52f6990626b5c548a6bae5fc0f5d022d594a248a93c8\"\n",
      "        },\n",
      "        {\n",
      "            \"address\": \"0x66C147195f556D3e9973a07Dfe7E8b0742a8D453\",\n",
      "            \"path\": \"m/44'/60'/0'/0/2\",\n",
      "            \"privkey\": \"0xdc195fac0d7290ee90f3eeafbe7ba85ec72a396e36679cb1d5ab3fac27a48814\",\n",
      "            \"pubkey\": \"0355e8f800cc51e4a2a342df878b1b79835c5a2eebba53764112201b5844e00b09\"\n",
      "        }\n",
      "    ]\n",
      "}\n"
     ]
    }
   ],
   "metadata": {}
  },
  {
   "cell_type": "code",
   "execution_count": 32,
   "source": [
    "# Created a function called `priv_key_to_account` that converts privkey strings to account objects.\r\n",
    "\r\n",
    "def priv_key_to_account(coin,priv_key):\r\n",
    "    print(coin)\r\n",
    "    print(priv_key)\r\n",
    "    if coin == ETH:\r\n",
    "        return Account.privateKeyToAccount(priv_key)\r\n",
    "    elif coin == BTCTEST:\r\n",
    "        return PrivateKeyTestnet(priv_key)"
   ],
   "outputs": [],
   "metadata": {}
  },
  {
   "cell_type": "code",
   "execution_count": 33,
   "source": [
    "# Created a function called `create_tx` that creates an unsigned transaction appropriate metadata.\r\n",
    "def create_tx(coin,account, recipient, amount):\r\n",
    "    if coin == ETH: \r\n",
    "        gasEstimate = w3.eth.estimateGas(\r\n",
    "            {\"from\":eth_acc.address, \"to\":recipient, \"value\": amount}\r\n",
    "        )\r\n",
    "        return { \r\n",
    "            \"from\": eth_acc.address,\r\n",
    "            \"to\": recipient,\r\n",
    "            \"value\": amount,\r\n",
    "            \"gasPrice\": w3.eth.gasPrice,\r\n",
    "            \"gas\": gasEstimate,\r\n",
    "            \"nonce\": w3.eth.getTransactionCount(eth_acc.address)\r\n",
    "        }\r\n",
    "    \r\n",
    "    elif coin == BTCTEST:\r\n",
    "        return PrivateKeyTestnet.prepare_transaction(account.address, [(recipient, amount, BTC)])"
   ],
   "outputs": [],
   "metadata": {}
  },
  {
   "cell_type": "code",
   "execution_count": 34,
   "source": [
    "# Created a function called `send_tx` that calls `create_tx`, signs and sends the transaction.\r\n",
    "def send_txn(coin,account,recipient, amount):\r\n",
    "    txn = create_tx(coin, account, recipient, amount)\r\n",
    "    if coin == ETH:\r\n",
    "        signed_txn = eth_acc.sign_transaction(txn)\r\n",
    "        result = w3.eth.sendRawTransaction(signed_txn.rawTransaction)\r\n",
    "        print(result.hex())\r\n",
    "        return result.hex()\r\n",
    "    elif coin == BTCTEST:\r\n",
    "        tx_btctest = create_tx(coin, account, recipient, amount)\r\n",
    "        signed_txn = account.sign_transaction(txn)\r\n",
    "        print(signed_txn)\r\n",
    "        return NetworkAPI.broadcast_tx_testnet(signed_txn)"
   ],
   "outputs": [],
   "metadata": {}
  },
  {
   "cell_type": "code",
   "execution_count": 35,
   "source": [
    "# BTC-TEST \r\n",
    "btc_acc = priv_key_to_account(BTCTEST,btc_PrivateKey)"
   ],
   "outputs": [
    {
     "output_type": "stream",
     "name": "stdout",
     "text": [
      "btc-test\n",
      "cR38nnMUzPKg7TQSeQ7sueEJBbQiMUViyj8UAamVJ2JRexMqHfgL\n"
     ]
    }
   ],
   "metadata": {}
  },
  {
   "cell_type": "code",
   "execution_count": 44,
   "source": [
    "create_tx(BTCTEST,btc_acc,\"mzKe2XK1Vb4Cxnxi2h6N3g9pxGUppTUCnm\", 0.0001)"
   ],
   "outputs": [
    {
     "output_type": "execute_result",
     "data": {
      "text/plain": [
       "'{\"unspents\":[{\"amount\":1386102,\"confirmations\":1,\"script\":\"76a914ce4690ad6e9cb9dd3cc0c9ffe9ff987ff7bc8a1888ac\",\"txid\":\"ba6318d779ef2c197e097c3b7ef369a1fbf2f5d9b561db73ac553efaf1508281\",\"txindex\":0,\"type\":\"p2pkh\",\"vsize\":148,\"segwit\":false,\"sequence\":4294967295},{\"amount\":10000,\"confirmations\":5,\"script\":\"76a914ce4690ad6e9cb9dd3cc0c9ffe9ff987ff7bc8a1888ac\",\"txid\":\"c1bd16b5eb55c619229e8711146014213c01429d15280bd54400f44489c7f9e4\",\"txindex\":0,\"type\":\"p2pkh\",\"vsize\":148,\"segwit\":false,\"sequence\":4294967295},{\"amount\":10000,\"confirmations\":2,\"script\":\"76a914ce4690ad6e9cb9dd3cc0c9ffe9ff987ff7bc8a1888ac\",\"txid\":\"53e75338693e49d9e948b8ffcff2726e29c8a71b22737ce131b10eea43a2f43e\",\"txindex\":1,\"type\":\"p2pkh\",\"vsize\":148,\"segwit\":false,\"sequence\":4294967295}],\"outputs\":[[\"mzKe2XK1Vb4Cxnxi2h6N3g9pxGUppTUCnm\",10000],[\"mzKe2XK1Vb4Cxnxi2h6N3g9pxGUppTUCnm\",1342858]]}'"
      ]
     },
     "metadata": {},
     "execution_count": 44
    }
   ],
   "metadata": {}
  },
  {
   "cell_type": "code",
   "execution_count": 42,
   "source": [
    "# Send BTC Transaction\r\n",
    "send_txn(BTCTEST,btc_acc,\"mzKe2XK1Vb4Cxnxi2h6N3g9pxGUppTUCnm\", 0.00001)"
   ],
   "outputs": [
    {
     "output_type": "stream",
     "name": "stdout",
     "text": [
      "0100000003e4f9c78944f40044d50b28159d42013c2114601411879e2219c655ebb516bdc1000000006a47304402207764b5085f753a6a37376c8a2172bb36a18ee83324ffd81de7f92559e47bd06302206e0d0bf20ff5a526117eb11b37bd493b0ae1124c89d2369cb928507130c10650012103a17f7f6f8d50f320920496320dca80e977ec317e35917f971587579b31131574ffffffff3ef4a243ea0eb131e17c73221ba7c8296e72f2cfffb848e9d9493e693853e753010000006a473044022018418346a3033d5a312824a87bd930ec5c415fa9f848d5a8a1ee58b680bf2de8022079557e8c6719be652efe0956d273d28e25a95159298496327d7671874df5799e012103a17f7f6f8d50f320920496320dca80e977ec317e35917f971587579b31131574ffffffff818250f1fa3e55ac73db61b5d9f5f2fba169f37e3b7c097e192cef79d71863ba000000006b483045022100dca505bf2e3af32b10a0d8469fd33b5d1105c51737dff4bc7a018d61761971c6022035891da73321219682c6f8df4165411a7370839521a9c341133cfbc3698c5033012103a17f7f6f8d50f320920496320dca80e977ec317e35917f971587579b31131574ffffffff02e8030000000000001976a914ce4690ad6e9cb9dd3cc0c9ffe9ff987ff7bc8a1888acb2a01400000000001976a914ce4690ad6e9cb9dd3cc0c9ffe9ff987ff7bc8a1888ac00000000\n"
     ]
    }
   ],
   "metadata": {}
  },
  {
   "cell_type": "code",
   "execution_count": 37,
   "source": [
    "# Connecting to HTTP with address\r\n",
    "w3 = Web3(Web3.HTTPProvider(\"http://127.0.0.1:8545\"))"
   ],
   "outputs": [],
   "metadata": {}
  },
  {
   "cell_type": "code",
   "execution_count": 38,
   "source": [
    "\r\n",
    "# Connection Test\r\n",
    "w3.isConnected()"
   ],
   "outputs": [
    {
     "output_type": "execute_result",
     "data": {
      "text/plain": [
       "True"
      ]
     },
     "metadata": {},
     "execution_count": 38
    }
   ],
   "metadata": {}
  },
  {
   "cell_type": "code",
   "execution_count": 39,
   "source": [
    "def create_raw_tx(account, recipient, amount):\r\n",
    "    gasEstimate = w3.eth.estimateGas(\r\n",
    "        {\"from\": account.address, \"to\": recipient, \"value\": amount}\r\n",
    "    )\r\n",
    "    return {\r\n",
    "        \"from\": account.address,\r\n",
    "        \"to\": recipient,\r\n",
    "        \"value\": amount,\r\n",
    "        \"gasPrice\": w3.eth.gasPrice,\r\n",
    "        \"gas\": gasEstimate,\r\n",
    "        \"nonce\": w3.eth.getTransactionCount(account.address),\r\n",
    "    }\r\n"
   ],
   "outputs": [],
   "metadata": {}
  },
  {
   "cell_type": "code",
   "execution_count": 40,
   "source": [
    "\r\n",
    "def send_tx(account, recipient, amount):\r\n",
    "    tx = create_raw_tx(account, recipient, amount)\r\n",
    "    signed_tx = account.sign_transaction(tx)\r\n",
    "    result = w3.eth.sendRawTransaction(signed_tx.rawTransaction)\r\n",
    "    print(result.hex())\r\n",
    "    return result.hex()"
   ],
   "outputs": [],
   "metadata": {}
  },
  {
   "cell_type": "code",
   "execution_count": 41,
   "source": [
    "# Confirmation of Transactional\r\n",
    "\r\n",
    "w3.eth.getBalance(\"0x806647dAa1C656B8aEC45408E7B850BA88b14C3F\")\r\n",
    "\r\n",
    "#0xbEC0d63779f5d59346a135cCf681bFa5B13d61C8\r\n",
    "#0x8aD5b4E4165647E4666587D8f4b66f268F46F772\r\n"
   ],
   "outputs": [
    {
     "output_type": "execute_result",
     "data": {
      "text/plain": [
       "31999580000000000000"
      ]
     },
     "metadata": {},
     "execution_count": 41
    }
   ],
   "metadata": {}
  }
 ],
 "metadata": {
  "orig_nbformat": 4,
  "language_info": {
   "name": "python",
   "version": "3.7.11",
   "mimetype": "text/x-python",
   "codemirror_mode": {
    "name": "ipython",
    "version": 3
   },
   "pygments_lexer": "ipython3",
   "nbconvert_exporter": "python",
   "file_extension": ".py"
  },
  "kernelspec": {
   "name": "python3",
   "display_name": "Python 3.7.11 64-bit ('ethereum': conda)"
  },
  "interpreter": {
   "hash": "e07039043bdf9a687783b6d0fa2529d01385715ec1ea1e389fd12da6ed7907c8"
  }
 },
 "nbformat": 4,
 "nbformat_minor": 2
}